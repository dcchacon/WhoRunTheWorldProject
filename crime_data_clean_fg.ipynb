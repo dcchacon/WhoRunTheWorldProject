{
 "cells": [
  {
   "cell_type": "code",
   "execution_count": 44,
   "metadata": {},
   "outputs": [],
   "source": [
    "import pandas as pd\n",
    "import matplotlib.pyplot as plt\n",
    "import numpy as np"
   ]
  },
  {
   "cell_type": "code",
   "execution_count": 45,
   "metadata": {},
   "outputs": [],
   "source": [
    "#import csv_file\n",
    "csv_file='Resources/Crime_Data_LA_from_2010_to_Present.csv'"
   ]
  },
  {
   "cell_type": "code",
   "execution_count": 46,
   "metadata": {},
   "outputs": [
    {
     "data": {
      "text/plain": [
       "(2109752, 29)"
      ]
     },
     "execution_count": 46,
     "metadata": {},
     "output_type": "execute_result"
    }
   ],
   "source": [
    "#convert csv to dataframe\n",
    "crime_data_df=pd.read_csv(csv_file)\n",
    "\n",
    "#Extract year in order to limit data range to 2016 - 2018\n",
    "crime_data_df[\"year\"]=pd.DatetimeIndex(crime_data_df[\"DATE OCC\"]).year\n",
    "\n",
    "#crime_data_df.head()\n",
    "crime_data_df.shape"
   ]
  },
  {
   "cell_type": "code",
   "execution_count": 47,
   "metadata": {},
   "outputs": [
    {
     "name": "stderr",
     "output_type": "stream",
     "text": [
      "C:\\Users\\mafgl\\Anaconda3\\lib\\site-packages\\ipykernel_launcher.py:3: UserWarning: Boolean Series key will be reindexed to match DataFrame index.\n",
      "  This is separate from the ipykernel package so we can avoid doing imports until\n"
     ]
    },
    {
     "data": {
      "text/plain": [
       "(682922, 29)"
      ]
     },
     "execution_count": 47,
     "metadata": {},
     "output_type": "execute_result"
    }
   ],
   "source": [
    "#Filter out years before 2016 and after 2018\n",
    "crime_data_df_3yrs = crime_data_df[crime_data_df['year']>=2016]\n",
    "crime_data_df_3yrs = crime_data_df_3yrs[crime_data_df['year']<=2018]\n",
    "crime_data_df_3yrs.shape"
   ]
  },
  {
   "cell_type": "code",
   "execution_count": 48,
   "metadata": {},
   "outputs": [],
   "source": [
    "#combining similar offenses together\n",
    "crime_data_clean_df=crime_data_df_3yrs.replace({'BATTERY - SIMPLE ASSAULT' : 'ASSAULT', 'BURGLARY FROM VEHICLE' : 'THEFT', 'VEHICLE - STOLEN' : 'THEFT', 'THEFT PLAIN - PETTY ($950 & UNDER)' : 'THEFT', 'BURGLARY' : 'THEFT', 'THEFT OF IDENTITY' : 'THEFT', 'INTIMATE PARTNER - SIMPLE ASSAULT' : 'ASSAULT', 'VANDALISM - FELONY ($400 & OVER, ALL CHURCH VANDALISMS)' : 'VANDALISM', 'ASSAULT WITH DEADLY WEAPON, AGGRAVATED ASSAULT' : 'ASSAULT', 'VANDALISM - MISDEAMEANOR ($399 OR UNDER)' : 'VANDALISM', 'THEFT FROM MOTOR VEHICLE - PETTY ($950 & UNDER)' : 'THEFT', 'ROBBERY' : 'THEFT', 'THEFT-GRAND ($950.01 & OVER)EXCPT,GUNS,FOWL,LIVESTK,PROD' : 'THEFT', 'CRIMINAL THREATS - NO WEAPON DISPLAYED' : 'Other', 'SHOPLIFTING - PETTY THEFT ($950 & UNDER)' : 'THEFT', 'THEFT FROM MOTOR VEHICLE - GRAND ($400 AND OVER)' : 'THEFT', 'DOCUMENT FORGERY / STOLEN FELONY' : 'THEFT', 'TRESPASSING' : 'Other', 'LETTERS, LEWD  -  TELEPHONE CALLS, LEWD' : 'Other', 'OTHER MISCELLANEOUS CRIME' : 'Other', 'VIOLATION OF COURT ORDER' : 'Other', 'VIOLATION OF RESTRAINING ORDER' : 'Other', 'BRANDISH WEAPON' : 'Other', 'INTIMATE PARTNER - AGGRAVATED ASSAULT' : 'ASSAULT', 'THEFT, PERSON' : 'THEFT', 'BIKE - STOLEN' : 'THEFT', 'BURGLARY, ATTEMPTED' : 'THEFT', 'ATTEMPTED ROBBERY' : 'THEFT', 'BATTERY WITH SEXUAL CONTACT' : 'SEX CRIMES', 'RAPE, FORCIBLE' : 'SEX CRIMES', 'CHILD ABUSE (PHYSICAL) - SIMPLE ASSAULT' : 'ASSAULT', 'BUNCO, GRAND THEFT' : 'THEFT', 'CRM AGNST CHLD (13 OR UNDER) (14-15 & SUSP 10 YRS OLDER)' : 'Other', 'EMBEZZLEMENT, GRAND THEFT ($950.01 & OVER)' : 'THEFT', 'BUNCO, PETTY THEFT' : 'THEFT', 'CHILD NEGLECT (SEE 300 W.I.C.)' : 'Other', 'CHILD ANNOYING (17YRS & UNDER)' : 'Other', 'BATTERY POLICE (SIMPLE)' : 'Other', 'SHOPLIFTING-GRAND THEFT ($950.01 & OVER)' : 'THEFT', 'SEX,UNLAWFUL(INC MUTUAL CONSENT, PENETRATION W/ FRGN OBJ' : 'SEX CRIMES', 'OTHER ASSAULT' : 'ASSAULT', 'CONTEMPT OF COURT' : 'Other', 'DISCHARGE FIREARMS/SHOTS FIRED' : 'Other', 'DISTURBING THE PEACE' : 'Other', 'ARSON' : 'Other', 'INDECENT EXPOSURE' : 'Other', 'VEHICLE - ATTEMPT STOLEN' : 'THEFT', 'RESISTING ARREST' : 'Other', 'THREATENING PHONE CALLS/LETTERS' : 'Other', 'BURGLARY FROM VEHICLE, ATTEMPTED' : 'THEFT', 'CRIMINAL HOMICIDE' : 'Other', 'SEXUAL PENETRATION W/FOREIGN OBJECT' : 'SEX CRIMES', 'EXTORTION' : 'Other', 'SHOTS FIRED AT INHABITED DWELLING' : 'Other', 'DEFRAUDING INNKEEPER/THEFT OF SERVICES, $400 & UNDER' : 'THEFT', 'KIDNAPPING' : 'Other', 'STALKING' : 'Other', 'ORAL COPULATION' : 'Other', 'CHILD ABUSE (PHYSICAL) - AGGRAVATED ASSAULT' : 'ASSAULT', 'THEFT PLAIN - ATTEMPT' : 'THEFT', 'THROWING OBJECT AT MOVING VEHICLE' : 'VANDALISM', 'ASSAULT WITH DEADLY WEAPON ON POLICE OFFICER' : 'ASSAULT', 'SODOMY/SEXUAL CONTACT B/W PENIS OF ONE PERS TO ANUS OTH' : 'SEX CRIMES', 'UNAUTHORIZED COMPUTER ACCESS' : 'Other', 'VIOLATION OF TEMPORARY RESTRAINING ORDER' : 'Other', 'LEWD CONDUCT' : 'Other', 'CRUELTY TO ANIMALS' : 'Other', 'THEFT FROM MOTOR VEHICLE - ATTEMPT' : 'THEFT', 'BOMB SCARE' : 'Other', 'PURSE SNATCHING' : 'THEFT', 'PEEPING TOM' : 'Other', 'CHILD STEALING' : 'Other', 'RAPE, ATTEMPTED' : 'SEX CRIMES', 'PICKPOCKET' : 'THEFT', 'FALSE IMPRISONMENT' : 'Other', 'PROWLER' : 'Other', 'COUNTERFEIT' : 'Other', 'CREDIT CARDS, FRAUD USE ($950.01 & OVER)' : 'Other', 'BUNCO, ATTEMPT' : 'Other', 'KIDNAPPING - GRAND ATTEMPT' : 'Other', 'EMBEZZLEMENT, PETTY THEFT ($950 & UNDER)' : 'THEFT', 'FAILURE TO YIELD' : 'Other', 'ILLEGAL DUMPING' : 'Other', 'DRIVING WITHOUT OWNER CONSENT (DWOC)' : 'Other', 'PIMPING' : 'SEX CRIMES', 'HUMAN TRAFFICKING - COMMERCIAL SEX ACTS' : 'SEX CRIMES', 'FALSE POLICE REPORT' : 'Other', 'DOCUMENT WORTHLESS ($200.01 & OVER)' : 'Other', 'PANDERING' : 'Other', 'BATTERY ON A FIREFIGHTER' : 'Other', 'CREDIT CARDS, FRAUD USE ($950 & UNDER' : 'Other', 'SHOTS FIRED AT MOVING VEHICLE, TRAIN OR AIRCRAFT' : 'Other', 'THEFT FROM PERSON - ATTEMPT' : 'THEFT', 'BOAT - STOLEN' : 'THEFT', 'RECKLESS DRIVING' : 'Other', 'SHOPLIFTING - ATTEMPT' : 'THEFT', 'DEFRAUDING INNKEEPER/THEFT OF SERVICES, OVER $400' : 'THEFT', 'THEFT, COIN MACHINE - PETTY ($950 & UNDER)' : 'THEFT', 'LEWD/LASCIVIOUS ACTS WITH CHILD' : 'SEX CRIMES', 'CHILD PORNOGRAPHY' : 'SEX CRIMES', 'CONTRIBUTING' : 'Other', 'WEAPONS POSSESSION/BOMBING' : 'Other', 'DISHONEST EMPLOYEE - GRAND THEFT' : 'THEFT', 'DISHONEST EMPLOYEE - PETTY THEFT' : 'THEFT', 'CHILD ABANDONMENT' : 'Other', 'HUMAN TRAFFICKING - INVOLUNTARY SERVITUDE' : 'SEX CRIMES', 'TILL TAP - PETTY ($950 & UNDER)' : 'Other', 'GRAND THEFT / INSURANCE FRAUD' : 'THEFT', 'DOCUMENT WORTHLESS ($200 & UNDER)' : 'Other', 'VEHICLE - MOTORIZED SCOOTERS, BICYCLES, AND WHEELCHAIRS' : 'Other', 'CONSPIRACY' : 'Other', 'PURSE SNATCHING - ATTEMPT' : 'THEFT', 'DRUGS, TO A MINOR' : 'Other', 'THEFT, COIN MACHINE - GRAND ($950.01 & OVER)' : 'THEFT', 'DISRUPT SCHOOL' : 'Other', 'LYNCHING' : 'Other', 'BIKE - ATTEMPTED STOLEN' : 'THEFT', 'TELEPHONE PROPERTY - DAMAGE' : 'VANDALISM', 'DRUNK ROLL' : 'Other', 'BRIBERY' : 'Other', 'REPLICA FIREARMS(SALE,DISPLAY,MANUFACTURE OR DISTRIBUTE)' : 'Other', 'LYNCHING - ATTEMPTED' : 'Other', 'THEFT, COIN MACHINE - ATTEMPT' : 'THEFT', 'BEASTIALITY, CRIME AGAINST NATURE SEXUAL ASSLT WITH ANIM' : 'SEX CRIMES', 'PETTY THEFT - AUTO REPAIR' : 'THEFT', 'PICKPOCKET, ATTEMPT' : 'THEFT', 'TILL TAP - GRAND THEFT ($950.01 & OVER)' : 'THEFT', 'FAILURE TO DISPERSE' : 'Other', 'GRAND THEFT / AUTO REPAIR' : 'THEFT', 'INCITING A RIOT' : 'Other', 'BIGAMY' : 'Other', 'INCEST (SEXUAL ACTS BETWEEN BLOOD RELATIVES)' : 'SEX CRIMES', 'DISHONEST EMPLOYEE ATTEMPTED THEFT' : 'THEFT', 'ABORTION/ILLEGAL' : 'Other', 'MANSLAUGHTER, NEGLIGENT' : 'Other', 'TILL TAP - ATTEMPT' : 'Other', 'BLOCKING DOOR INDUCTION CENTER' : 'Other', 'FIREARMS RESTRAINING ORDER (FIREARMS RO)' : 'Other', 'TRAIN WRECKING' : 'Other', 'DRUNK ROLL - ATTEMPT' : 'Other', 'FIREARMS TEMPORARY RESTRAINING ORDER (TEMP FIREARMS RO)' : 'Other'})"
   ]
  },
  {
   "cell_type": "code",
   "execution_count": 49,
   "metadata": {},
   "outputs": [
    {
     "data": {
      "text/html": [
       "<div>\n",
       "<style scoped>\n",
       "    .dataframe tbody tr th:only-of-type {\n",
       "        vertical-align: middle;\n",
       "    }\n",
       "\n",
       "    .dataframe tbody tr th {\n",
       "        vertical-align: top;\n",
       "    }\n",
       "\n",
       "    .dataframe thead th {\n",
       "        text-align: right;\n",
       "    }\n",
       "</style>\n",
       "<table border=\"1\" class=\"dataframe\">\n",
       "  <thead>\n",
       "    <tr style=\"text-align: right;\">\n",
       "      <th></th>\n",
       "      <th>DR_NO</th>\n",
       "      <th>Date Rptd</th>\n",
       "      <th>DATE OCC</th>\n",
       "      <th>TIME OCC</th>\n",
       "      <th>AREA</th>\n",
       "      <th>AREA NAME</th>\n",
       "      <th>Rpt Dist No</th>\n",
       "      <th>Part 1-2</th>\n",
       "      <th>Crm Cd</th>\n",
       "      <th>Crm Cd Desc</th>\n",
       "      <th>...</th>\n",
       "      <th>Status Desc</th>\n",
       "      <th>Crm Cd 1</th>\n",
       "      <th>Crm Cd 2</th>\n",
       "      <th>Crm Cd 3</th>\n",
       "      <th>Crm Cd 4</th>\n",
       "      <th>LOCATION</th>\n",
       "      <th>Cross Street</th>\n",
       "      <th>LAT</th>\n",
       "      <th>LON</th>\n",
       "      <th>year</th>\n",
       "    </tr>\n",
       "  </thead>\n",
       "  <tbody>\n",
       "    <tr>\n",
       "      <td>1152293</td>\n",
       "      <td>160210879</td>\n",
       "      <td>05/17/2016 12:00:00 AM</td>\n",
       "      <td>05/12/2016 12:00:00 AM</td>\n",
       "      <td>1400</td>\n",
       "      <td>2</td>\n",
       "      <td>Rampart</td>\n",
       "      <td>249</td>\n",
       "      <td>2</td>\n",
       "      <td>662</td>\n",
       "      <td>THEFT</td>\n",
       "      <td>...</td>\n",
       "      <td>Invest Cont</td>\n",
       "      <td>662.0</td>\n",
       "      <td>NaN</td>\n",
       "      <td>NaN</td>\n",
       "      <td>NaN</td>\n",
       "      <td>4TH</td>\n",
       "      <td>BEAUDRY</td>\n",
       "      <td>34.0555</td>\n",
       "      <td>-118.2576</td>\n",
       "      <td>2016</td>\n",
       "    </tr>\n",
       "    <tr>\n",
       "      <td>1152321</td>\n",
       "      <td>160105785</td>\n",
       "      <td>01/22/2016 12:00:00 AM</td>\n",
       "      <td>01/22/2016 12:00:00 AM</td>\n",
       "      <td>530</td>\n",
       "      <td>1</td>\n",
       "      <td>Central</td>\n",
       "      <td>195</td>\n",
       "      <td>1</td>\n",
       "      <td>510</td>\n",
       "      <td>THEFT</td>\n",
       "      <td>...</td>\n",
       "      <td>Invest Cont</td>\n",
       "      <td>510.0</td>\n",
       "      <td>NaN</td>\n",
       "      <td>NaN</td>\n",
       "      <td>NaN</td>\n",
       "      <td>200 E  WASHINGTON                   BL</td>\n",
       "      <td>NaN</td>\n",
       "      <td>34.0335</td>\n",
       "      <td>-118.2619</td>\n",
       "      <td>2016</td>\n",
       "    </tr>\n",
       "    <tr>\n",
       "      <td>1152546</td>\n",
       "      <td>161111981</td>\n",
       "      <td>06/16/2016 12:00:00 AM</td>\n",
       "      <td>06/15/2016 12:00:00 AM</td>\n",
       "      <td>1830</td>\n",
       "      <td>11</td>\n",
       "      <td>Northeast</td>\n",
       "      <td>1128</td>\n",
       "      <td>1</td>\n",
       "      <td>510</td>\n",
       "      <td>THEFT</td>\n",
       "      <td>...</td>\n",
       "      <td>Invest Cont</td>\n",
       "      <td>510.0</td>\n",
       "      <td>NaN</td>\n",
       "      <td>NaN</td>\n",
       "      <td>NaN</td>\n",
       "      <td>900 N  AVENUE 64</td>\n",
       "      <td>NaN</td>\n",
       "      <td>34.1225</td>\n",
       "      <td>-118.1818</td>\n",
       "      <td>2016</td>\n",
       "    </tr>\n",
       "    <tr>\n",
       "      <td>1152855</td>\n",
       "      <td>160406527</td>\n",
       "      <td>02/28/2016 12:00:00 AM</td>\n",
       "      <td>02/28/2016 12:00:00 AM</td>\n",
       "      <td>200</td>\n",
       "      <td>4</td>\n",
       "      <td>Hollenbeck</td>\n",
       "      <td>438</td>\n",
       "      <td>1</td>\n",
       "      <td>510</td>\n",
       "      <td>THEFT</td>\n",
       "      <td>...</td>\n",
       "      <td>Invest Cont</td>\n",
       "      <td>510.0</td>\n",
       "      <td>NaN</td>\n",
       "      <td>NaN</td>\n",
       "      <td>NaN</td>\n",
       "      <td>LOMBARDY</td>\n",
       "      <td>KIMBALL</td>\n",
       "      <td>34.0766</td>\n",
       "      <td>-118.1765</td>\n",
       "      <td>2016</td>\n",
       "    </tr>\n",
       "    <tr>\n",
       "      <td>1152884</td>\n",
       "      <td>161821666</td>\n",
       "      <td>11/22/2016 12:00:00 AM</td>\n",
       "      <td>11/21/2016 12:00:00 AM</td>\n",
       "      <td>1900</td>\n",
       "      <td>18</td>\n",
       "      <td>Southeast</td>\n",
       "      <td>1851</td>\n",
       "      <td>1</td>\n",
       "      <td>510</td>\n",
       "      <td>THEFT</td>\n",
       "      <td>...</td>\n",
       "      <td>Invest Cont</td>\n",
       "      <td>510.0</td>\n",
       "      <td>NaN</td>\n",
       "      <td>NaN</td>\n",
       "      <td>NaN</td>\n",
       "      <td>700 W  EL SEGUNDO                   BL</td>\n",
       "      <td>NaN</td>\n",
       "      <td>33.9164</td>\n",
       "      <td>-118.2870</td>\n",
       "      <td>2016</td>\n",
       "    </tr>\n",
       "  </tbody>\n",
       "</table>\n",
       "<p>5 rows × 29 columns</p>\n",
       "</div>"
      ],
      "text/plain": [
       "             DR_NO               Date Rptd                DATE OCC  TIME OCC  \\\n",
       "1152293  160210879  05/17/2016 12:00:00 AM  05/12/2016 12:00:00 AM      1400   \n",
       "1152321  160105785  01/22/2016 12:00:00 AM  01/22/2016 12:00:00 AM       530   \n",
       "1152546  161111981  06/16/2016 12:00:00 AM  06/15/2016 12:00:00 AM      1830   \n",
       "1152855  160406527  02/28/2016 12:00:00 AM  02/28/2016 12:00:00 AM       200   \n",
       "1152884  161821666  11/22/2016 12:00:00 AM  11/21/2016 12:00:00 AM      1900   \n",
       "\n",
       "         AREA    AREA NAME  Rpt Dist No  Part 1-2  Crm Cd Crm Cd Desc  ...  \\\n",
       "1152293      2     Rampart          249         2     662       THEFT  ...   \n",
       "1152321      1     Central          195         1     510       THEFT  ...   \n",
       "1152546     11   Northeast         1128         1     510       THEFT  ...   \n",
       "1152855      4  Hollenbeck          438         1     510       THEFT  ...   \n",
       "1152884     18   Southeast         1851         1     510       THEFT  ...   \n",
       "\n",
       "         Status Desc  Crm Cd 1 Crm Cd 2 Crm Cd 3  Crm Cd 4  \\\n",
       "1152293  Invest Cont     662.0      NaN      NaN       NaN   \n",
       "1152321  Invest Cont     510.0      NaN      NaN       NaN   \n",
       "1152546  Invest Cont     510.0      NaN      NaN       NaN   \n",
       "1152855  Invest Cont     510.0      NaN      NaN       NaN   \n",
       "1152884  Invest Cont     510.0      NaN      NaN       NaN   \n",
       "\n",
       "                                       LOCATION  Cross Street      LAT  \\\n",
       "1152293                                     4TH       BEAUDRY  34.0555   \n",
       "1152321  200 E  WASHINGTON                   BL           NaN  34.0335   \n",
       "1152546                        900 N  AVENUE 64           NaN  34.1225   \n",
       "1152855                                LOMBARDY       KIMBALL  34.0766   \n",
       "1152884  700 W  EL SEGUNDO                   BL           NaN  33.9164   \n",
       "\n",
       "              LON  year  \n",
       "1152293 -118.2576  2016  \n",
       "1152321 -118.2619  2016  \n",
       "1152546 -118.1818  2016  \n",
       "1152855 -118.1765  2016  \n",
       "1152884 -118.2870  2016  \n",
       "\n",
       "[5 rows x 29 columns]"
      ]
     },
     "execution_count": 49,
     "metadata": {},
     "output_type": "execute_result"
    }
   ],
   "source": [
    "#display clean crime data frame\n",
    "crime_data_clean_df.describe()\n",
    "#crime_data_clean_df = crime_data_clean_df.dropna(how='any')\n",
    "crime_data_clean_df.shape\n",
    "crime_data_clean_df.head()"
   ]
  },
  {
   "cell_type": "code",
   "execution_count": 71,
   "metadata": {},
   "outputs": [
    {
     "data": {
      "text/plain": [
       "THEFT         385533\n",
       "ASSAULT       140445\n",
       "Other          80388\n",
       "VANDALISM      65255\n",
       "SEX CRIMES     11301\n",
       "Name: Crm Cd Desc, dtype: int64"
      ]
     },
     "execution_count": 71,
     "metadata": {},
     "output_type": "execute_result"
    }
   ],
   "source": [
    "crime_grouping=crime_data_clean_df['Crm Cd Desc'].value_counts()\n",
    "crime_grouping"
   ]
  },
  {
   "cell_type": "code",
   "execution_count": 70,
   "metadata": {},
   "outputs": [
    {
     "data": {
      "text/plain": [
       "([<matplotlib.patches.Wedge at 0x23f1df6c5c8>,\n",
       "  <matplotlib.patches.Wedge at 0x23f1df74088>,\n",
       "  <matplotlib.patches.Wedge at 0x23f1df74c88>,\n",
       "  <matplotlib.patches.Wedge at 0x23f1df7d948>,\n",
       "  <matplotlib.patches.Wedge at 0x23f24157808>],\n",
       " [Text(-0.5704504347061611, -1.0557396940266819, 'THEFT'),\n",
       "  Text(1.1258298576004577, 0.4153397786575872, 'ASSAULT'),\n",
       "  Text(0.2601644100585612, 1.2737010951313816, 'Other'),\n",
       "  Text(-0.496706310190979, 0.9814697353543119, 'VANDALISM'),\n",
       "  Text(-0.8047687830050513, 0.749898130348762, 'SEX CRIMES')],\n",
       " [Text(-0.332762753578594, -0.6158481548488978, '56.5%'),\n",
       "  Text(0.6567340836002669, 0.24228153755025916, '20.6%'),\n",
       "  Text(0.16010117542065305, 0.7838160585423886, '11.8%'),\n",
       "  Text(-0.27093071464962487, 0.5353471283750791, '9.6%'),\n",
       "  Text(-0.438964790730028, 0.4090353438265974, '1.7%')])"
      ]
     },
     "execution_count": 70,
     "metadata": {},
     "output_type": "execute_result"
    },
    {
     "data": {
      "image/png": "[encoded data removed]",
      "text/plain": [
       "<Figure size 432x288 with 1 Axes>"
      ]
     },
     "metadata": {},
     "output_type": "display_data"
    }
   ],
   "source": [
    "#plt.pie(crime_data_clean_df, explode=explode, labels=pies, colors=colors,\n",
    "#        autopct=\"%1.1f%%\", shadow=True, startangle=140)\n",
    "#plt.pie(crime_grouping)\n",
    "explode = (0.1, 0.1, 0.2, 0, 0)\n",
    "plt.pie(crime_grouping, explode=explode, labels=crime_grouping.index, \n",
    "        autopct=\"%1.1f%%\", shadow=True, startangle=140)"
   ]
  },
  {
   "cell_type": "code",
   "execution_count": null,
   "metadata": {},
   "outputs": [],
   "source": [
    "#reset index to see results as a dataframe\n",
    "#pd.DataFrame(crime_data_clean_df['Crm Cd Desc'].value_counts()).reset_index()"
   ]
  }
 ],
 "metadata": {
  "kernelspec": {
   "display_name": "Python 3",
   "language": "python",
   "name": "python3"
  },
  "language_info": {
   "codemirror_mode": {
    "name": "ipython",
    "version": 3
   },
   "file_extension": ".py",
   "mimetype": "text/x-python",
   "name": "python",
   "nbconvert_exporter": "python",
   "pygments_lexer": "ipython3",
   "version": "3.7.4"
  }
 },
 "nbformat": 4,
 "nbformat_minor": 2
}
