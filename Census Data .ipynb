{
 "cells": [
  {
   "cell_type": "code",
   "execution_count": 1,
   "metadata": {},
   "outputs": [
    {
     "name": "stdout",
     "output_type": "stream",
     "text": [
      "Requirement already satisfied: us in c:\\users\\basco\\anaconda3\\lib\\site-packages (1.0.0)\n",
      "Requirement already satisfied: jellyfish==0.5.6 in c:\\users\\basco\\anaconda3\\lib\\site-packages (from us) (0.5.6)\n"
     ]
    }
   ],
   "source": [
    "!pip install us"
   ]
  },
  {
   "cell_type": "code",
   "execution_count": 2,
   "metadata": {},
   "outputs": [],
   "source": [
    "#Dependencies\n",
    "from census import Census\n",
    "from config_census import (census_key, gkey)\n",
    "import gmaps\n",
    "import numpy as np\n",
    "import pandas as pd\n",
    "import requests\n",
    "import time\n",
    "from us import states\n",
    "from scipy.stats import linregress\n",
    "from matplotlib import pyplot as plt\n",
    "\n",
    "# Census API Key\n",
    "c = Census(census_key, year=2018)"
   ]
  },
  {
   "cell_type": "code",
   "execution_count": 3,
   "metadata": {},
   "outputs": [
    {
     "data": {
      "text/plain": [
       "<census.core.Census at 0x242a25b7148>"
      ]
     },
     "execution_count": 3,
     "metadata": {},
     "output_type": "execute_result"
    }
   ],
   "source": [
    "c"
   ]
  },
  {
   "cell_type": "code",
   "execution_count": 4,
   "metadata": {},
   "outputs": [
    {
     "data": {
      "text/html": [
       "<div>\n",
       "<style scoped>\n",
       "    .dataframe tbody tr th:only-of-type {\n",
       "        vertical-align: middle;\n",
       "    }\n",
       "\n",
       "    .dataframe tbody tr th {\n",
       "        vertical-align: top;\n",
       "    }\n",
       "\n",
       "    .dataframe thead th {\n",
       "        text-align: right;\n",
       "    }\n",
       "</style>\n",
       "<table border=\"1\" class=\"dataframe\">\n",
       "  <thead>\n",
       "    <tr style=\"text-align: right;\">\n",
       "      <th></th>\n",
       "      <th>Name</th>\n",
       "      <th>Household Income</th>\n",
       "      <th>Population</th>\n",
       "      <th>Median Age</th>\n",
       "      <th>Per Capita Income</th>\n",
       "      <th>Poverty Count</th>\n",
       "      <th>Zipcode</th>\n",
       "    </tr>\n",
       "  </thead>\n",
       "  <tbody>\n",
       "    <tr>\n",
       "      <td>0</td>\n",
       "      <td>ZCTA5 00601</td>\n",
       "      <td>13092.0</td>\n",
       "      <td>17242.0</td>\n",
       "      <td>40.5</td>\n",
       "      <td>6999.0</td>\n",
       "      <td>10772.0</td>\n",
       "      <td>00601</td>\n",
       "    </tr>\n",
       "    <tr>\n",
       "      <td>1</td>\n",
       "      <td>ZCTA5 00602</td>\n",
       "      <td>16358.0</td>\n",
       "      <td>38442.0</td>\n",
       "      <td>42.3</td>\n",
       "      <td>9277.0</td>\n",
       "      <td>19611.0</td>\n",
       "      <td>00602</td>\n",
       "    </tr>\n",
       "    <tr>\n",
       "      <td>2</td>\n",
       "      <td>ZCTA5 00603</td>\n",
       "      <td>16603.0</td>\n",
       "      <td>48814.0</td>\n",
       "      <td>41.1</td>\n",
       "      <td>11307.0</td>\n",
       "      <td>24337.0</td>\n",
       "      <td>00603</td>\n",
       "    </tr>\n",
       "    <tr>\n",
       "      <td>3</td>\n",
       "      <td>ZCTA5 00606</td>\n",
       "      <td>12832.0</td>\n",
       "      <td>6437.0</td>\n",
       "      <td>43.3</td>\n",
       "      <td>5943.0</td>\n",
       "      <td>4163.0</td>\n",
       "      <td>00606</td>\n",
       "    </tr>\n",
       "    <tr>\n",
       "      <td>4</td>\n",
       "      <td>ZCTA5 00610</td>\n",
       "      <td>19309.0</td>\n",
       "      <td>27073.0</td>\n",
       "      <td>42.1</td>\n",
       "      <td>10220.0</td>\n",
       "      <td>11724.0</td>\n",
       "      <td>00610</td>\n",
       "    </tr>\n",
       "  </tbody>\n",
       "</table>\n",
       "</div>"
      ],
      "text/plain": [
       "          Name  Household Income  Population  Median Age  Per Capita Income  \\\n",
       "0  ZCTA5 00601           13092.0     17242.0        40.5             6999.0   \n",
       "1  ZCTA5 00602           16358.0     38442.0        42.3             9277.0   \n",
       "2  ZCTA5 00603           16603.0     48814.0        41.1            11307.0   \n",
       "3  ZCTA5 00606           12832.0      6437.0        43.3             5943.0   \n",
       "4  ZCTA5 00610           19309.0     27073.0        42.1            10220.0   \n",
       "\n",
       "   Poverty Count Zipcode  \n",
       "0        10772.0   00601  \n",
       "1        19611.0   00602  \n",
       "2        24337.0   00603  \n",
       "3         4163.0   00606  \n",
       "4        11724.0   00610  "
      ]
     },
     "execution_count": 4,
     "metadata": {},
     "output_type": "execute_result"
    }
   ],
   "source": [
    "# Run Census Search to retrieve data on all zip codes (2013 ACS5 Census)\n",
    "# See: https://github.com/CommerceDataService/census-wrapper for library documentation\n",
    "# See: https://gist.github.com/afhaque/60558290d6efd892351c4b64e5c01e9b for labels\n",
    "census_data = c.acs5.get((\"NAME\", \"B19013_001E\", \"B01003_001E\", \"B01002_001E\",\n",
    "                          \"B19301_001E\",\n",
    "                          \"B17001_002E\"), {'for': 'zip code tabulation area:*'})\n",
    "\n",
    "# Convert to DataFrame\n",
    "census_pd = pd.DataFrame(census_data)\n",
    "\n",
    "# Column Reordering\n",
    "census_pd = census_pd.rename(columns={\"B01003_001E\": \"Population\",\n",
    "                                      \"B01002_001E\": \"Median Age\",\n",
    "                                      \"B19013_001E\": \"Household Income\",\n",
    "                                      \"B19301_001E\": \"Per Capita Income\",\n",
    "                                      \"B17001_002E\": \"Poverty Count\",\n",
    "                                      \"NAME\": \"Name\", \"zip code tabulation area\": \"Zipcode\"})\n",
    "\n",
    "census_pd.head()"
   ]
  },
  {
   "cell_type": "code",
   "execution_count": 5,
   "metadata": {},
   "outputs": [
    {
     "data": {
      "text/plain": [
       "Name                 33120\n",
       "Household Income     33085\n",
       "Population           33120\n",
       "Median Age           33120\n",
       "Per Capita Income    32776\n",
       "Poverty Count        33085\n",
       "Zipcode              33120\n",
       "dtype: int64"
      ]
     },
     "execution_count": 5,
     "metadata": {},
     "output_type": "execute_result"
    }
   ],
   "source": [
    "census_pd.count()"
   ]
  },
  {
   "cell_type": "code",
   "execution_count": 6,
   "metadata": {},
   "outputs": [
    {
     "data": {
      "text/html": [
       "<div>\n",
       "<style scoped>\n",
       "    .dataframe tbody tr th:only-of-type {\n",
       "        vertical-align: middle;\n",
       "    }\n",
       "\n",
       "    .dataframe tbody tr th {\n",
       "        vertical-align: top;\n",
       "    }\n",
       "\n",
       "    .dataframe thead th {\n",
       "        text-align: right;\n",
       "    }\n",
       "</style>\n",
       "<table border=\"1\" class=\"dataframe\">\n",
       "  <thead>\n",
       "    <tr style=\"text-align: right;\">\n",
       "      <th></th>\n",
       "      <th>Name</th>\n",
       "      <th>Household Income</th>\n",
       "      <th>Population</th>\n",
       "      <th>Median Age</th>\n",
       "      <th>Per Capita Income</th>\n",
       "      <th>Poverty Count</th>\n",
       "      <th>Zipcode</th>\n",
       "    </tr>\n",
       "  </thead>\n",
       "  <tbody>\n",
       "    <tr>\n",
       "      <td>0</td>\n",
       "      <td>ZCTA5 00601</td>\n",
       "      <td>13092.0</td>\n",
       "      <td>17242.0</td>\n",
       "      <td>40.5</td>\n",
       "      <td>6999.0</td>\n",
       "      <td>10772.0</td>\n",
       "      <td>00601</td>\n",
       "    </tr>\n",
       "    <tr>\n",
       "      <td>1</td>\n",
       "      <td>ZCTA5 00602</td>\n",
       "      <td>16358.0</td>\n",
       "      <td>38442.0</td>\n",
       "      <td>42.3</td>\n",
       "      <td>9277.0</td>\n",
       "      <td>19611.0</td>\n",
       "      <td>00602</td>\n",
       "    </tr>\n",
       "    <tr>\n",
       "      <td>2</td>\n",
       "      <td>ZCTA5 00603</td>\n",
       "      <td>16603.0</td>\n",
       "      <td>48814.0</td>\n",
       "      <td>41.1</td>\n",
       "      <td>11307.0</td>\n",
       "      <td>24337.0</td>\n",
       "      <td>00603</td>\n",
       "    </tr>\n",
       "    <tr>\n",
       "      <td>3</td>\n",
       "      <td>ZCTA5 00606</td>\n",
       "      <td>12832.0</td>\n",
       "      <td>6437.0</td>\n",
       "      <td>43.3</td>\n",
       "      <td>5943.0</td>\n",
       "      <td>4163.0</td>\n",
       "      <td>00606</td>\n",
       "    </tr>\n",
       "    <tr>\n",
       "      <td>4</td>\n",
       "      <td>ZCTA5 00610</td>\n",
       "      <td>19309.0</td>\n",
       "      <td>27073.0</td>\n",
       "      <td>42.1</td>\n",
       "      <td>10220.0</td>\n",
       "      <td>11724.0</td>\n",
       "      <td>00610</td>\n",
       "    </tr>\n",
       "    <tr>\n",
       "      <td>...</td>\n",
       "      <td>...</td>\n",
       "      <td>...</td>\n",
       "      <td>...</td>\n",
       "      <td>...</td>\n",
       "      <td>...</td>\n",
       "      <td>...</td>\n",
       "      <td>...</td>\n",
       "    </tr>\n",
       "    <tr>\n",
       "      <td>33079</td>\n",
       "      <td>ZCTA5 99922</td>\n",
       "      <td>34028.0</td>\n",
       "      <td>330.0</td>\n",
       "      <td>39.5</td>\n",
       "      <td>18213.0</td>\n",
       "      <td>129.0</td>\n",
       "      <td>99922</td>\n",
       "    </tr>\n",
       "    <tr>\n",
       "      <td>33081</td>\n",
       "      <td>ZCTA5 99925</td>\n",
       "      <td>57375.0</td>\n",
       "      <td>927.0</td>\n",
       "      <td>43.6</td>\n",
       "      <td>25840.0</td>\n",
       "      <td>172.0</td>\n",
       "      <td>99925</td>\n",
       "    </tr>\n",
       "    <tr>\n",
       "      <td>33082</td>\n",
       "      <td>ZCTA5 99926</td>\n",
       "      <td>53409.0</td>\n",
       "      <td>1635.0</td>\n",
       "      <td>34.5</td>\n",
       "      <td>22453.0</td>\n",
       "      <td>235.0</td>\n",
       "      <td>99926</td>\n",
       "    </tr>\n",
       "    <tr>\n",
       "      <td>33083</td>\n",
       "      <td>ZCTA5 99927</td>\n",
       "      <td>-666666666.0</td>\n",
       "      <td>38.0</td>\n",
       "      <td>55.5</td>\n",
       "      <td>13658.0</td>\n",
       "      <td>28.0</td>\n",
       "      <td>99927</td>\n",
       "    </tr>\n",
       "    <tr>\n",
       "      <td>33084</td>\n",
       "      <td>ZCTA5 99929</td>\n",
       "      <td>57583.0</td>\n",
       "      <td>2484.0</td>\n",
       "      <td>49.5</td>\n",
       "      <td>31489.0</td>\n",
       "      <td>192.0</td>\n",
       "      <td>99929</td>\n",
       "    </tr>\n",
       "  </tbody>\n",
       "</table>\n",
       "<p>32776 rows × 7 columns</p>\n",
       "</div>"
      ],
      "text/plain": [
       "              Name  Household Income  Population  Median Age  \\\n",
       "0      ZCTA5 00601           13092.0     17242.0        40.5   \n",
       "1      ZCTA5 00602           16358.0     38442.0        42.3   \n",
       "2      ZCTA5 00603           16603.0     48814.0        41.1   \n",
       "3      ZCTA5 00606           12832.0      6437.0        43.3   \n",
       "4      ZCTA5 00610           19309.0     27073.0        42.1   \n",
       "...            ...               ...         ...         ...   \n",
       "33079  ZCTA5 99922           34028.0       330.0        39.5   \n",
       "33081  ZCTA5 99925           57375.0       927.0        43.6   \n",
       "33082  ZCTA5 99926           53409.0      1635.0        34.5   \n",
       "33083  ZCTA5 99927      -666666666.0        38.0        55.5   \n",
       "33084  ZCTA5 99929           57583.0      2484.0        49.5   \n",
       "\n",
       "       Per Capita Income  Poverty Count Zipcode  \n",
       "0                 6999.0        10772.0   00601  \n",
       "1                 9277.0        19611.0   00602  \n",
       "2                11307.0        24337.0   00603  \n",
       "3                 5943.0         4163.0   00606  \n",
       "4                10220.0        11724.0   00610  \n",
       "...                  ...            ...     ...  \n",
       "33079            18213.0          129.0   99922  \n",
       "33081            25840.0          172.0   99925  \n",
       "33082            22453.0          235.0   99926  \n",
       "33083            13658.0           28.0   99927  \n",
       "33084            31489.0          192.0   99929  \n",
       "\n",
       "[32776 rows x 7 columns]"
      ]
     },
     "execution_count": 6,
     "metadata": {},
     "output_type": "execute_result"
    }
   ],
   "source": [
    "census_pd.dropna(how='any')"
   ]
  },
  {
   "cell_type": "code",
   "execution_count": 7,
   "metadata": {},
   "outputs": [
    {
     "data": {
      "text/html": [
       "<div>\n",
       "<style scoped>\n",
       "    .dataframe tbody tr th:only-of-type {\n",
       "        vertical-align: middle;\n",
       "    }\n",
       "\n",
       "    .dataframe tbody tr th {\n",
       "        vertical-align: top;\n",
       "    }\n",
       "\n",
       "    .dataframe thead th {\n",
       "        text-align: right;\n",
       "    }\n",
       "</style>\n",
       "<table border=\"1\" class=\"dataframe\">\n",
       "  <thead>\n",
       "    <tr style=\"text-align: right;\">\n",
       "      <th></th>\n",
       "      <th>Name</th>\n",
       "      <th>Household Income</th>\n",
       "      <th>Population</th>\n",
       "      <th>Median Age</th>\n",
       "      <th>Per Capita Income</th>\n",
       "      <th>Poverty Count</th>\n",
       "      <th>Zipcode</th>\n",
       "      <th>Poverty Rate</th>\n",
       "    </tr>\n",
       "  </thead>\n",
       "  <tbody>\n",
       "    <tr>\n",
       "      <td>0</td>\n",
       "      <td>ZCTA5 00601</td>\n",
       "      <td>13092.0</td>\n",
       "      <td>17242.0</td>\n",
       "      <td>40.5</td>\n",
       "      <td>6999.0</td>\n",
       "      <td>10772.0</td>\n",
       "      <td>00601</td>\n",
       "      <td>62.475351</td>\n",
       "    </tr>\n",
       "    <tr>\n",
       "      <td>1</td>\n",
       "      <td>ZCTA5 00602</td>\n",
       "      <td>16358.0</td>\n",
       "      <td>38442.0</td>\n",
       "      <td>42.3</td>\n",
       "      <td>9277.0</td>\n",
       "      <td>19611.0</td>\n",
       "      <td>00602</td>\n",
       "      <td>51.014515</td>\n",
       "    </tr>\n",
       "    <tr>\n",
       "      <td>2</td>\n",
       "      <td>ZCTA5 00603</td>\n",
       "      <td>16603.0</td>\n",
       "      <td>48814.0</td>\n",
       "      <td>41.1</td>\n",
       "      <td>11307.0</td>\n",
       "      <td>24337.0</td>\n",
       "      <td>00603</td>\n",
       "      <td>49.856599</td>\n",
       "    </tr>\n",
       "    <tr>\n",
       "      <td>3</td>\n",
       "      <td>ZCTA5 00606</td>\n",
       "      <td>12832.0</td>\n",
       "      <td>6437.0</td>\n",
       "      <td>43.3</td>\n",
       "      <td>5943.0</td>\n",
       "      <td>4163.0</td>\n",
       "      <td>00606</td>\n",
       "      <td>64.672984</td>\n",
       "    </tr>\n",
       "    <tr>\n",
       "      <td>4</td>\n",
       "      <td>ZCTA5 00610</td>\n",
       "      <td>19309.0</td>\n",
       "      <td>27073.0</td>\n",
       "      <td>42.1</td>\n",
       "      <td>10220.0</td>\n",
       "      <td>11724.0</td>\n",
       "      <td>00610</td>\n",
       "      <td>43.305138</td>\n",
       "    </tr>\n",
       "  </tbody>\n",
       "</table>\n",
       "</div>"
      ],
      "text/plain": [
       "          Name  Household Income  Population  Median Age  Per Capita Income  \\\n",
       "0  ZCTA5 00601           13092.0     17242.0        40.5             6999.0   \n",
       "1  ZCTA5 00602           16358.0     38442.0        42.3             9277.0   \n",
       "2  ZCTA5 00603           16603.0     48814.0        41.1            11307.0   \n",
       "3  ZCTA5 00606           12832.0      6437.0        43.3             5943.0   \n",
       "4  ZCTA5 00610           19309.0     27073.0        42.1            10220.0   \n",
       "\n",
       "   Poverty Count Zipcode  Poverty Rate  \n",
       "0        10772.0   00601     62.475351  \n",
       "1        19611.0   00602     51.014515  \n",
       "2        24337.0   00603     49.856599  \n",
       "3         4163.0   00606     64.672984  \n",
       "4        11724.0   00610     43.305138  "
      ]
     },
     "execution_count": 7,
     "metadata": {},
     "output_type": "execute_result"
    }
   ],
   "source": [
    "# Add in Poverty Rate (Poverty Count / Population)\n",
    "census_pd[\"Poverty Rate\"] = 100 * census_pd[\"Poverty Count\"].astype(float) / census_pd[\"Population\"].astype(float)\n",
    "census_pd.head()"
   ]
  },
  {
   "cell_type": "code",
   "execution_count": 8,
   "metadata": {},
   "outputs": [
    {
     "data": {
      "text/html": [
       "<div>\n",
       "<style scoped>\n",
       "    .dataframe tbody tr th:only-of-type {\n",
       "        vertical-align: middle;\n",
       "    }\n",
       "\n",
       "    .dataframe tbody tr th {\n",
       "        vertical-align: top;\n",
       "    }\n",
       "\n",
       "    .dataframe thead th {\n",
       "        text-align: right;\n",
       "    }\n",
       "</style>\n",
       "<table border=\"1\" class=\"dataframe\">\n",
       "  <thead>\n",
       "    <tr style=\"text-align: right;\">\n",
       "      <th></th>\n",
       "      <th>Zipcode</th>\n",
       "      <th>Population</th>\n",
       "      <th>Median Age</th>\n",
       "      <th>Household Income</th>\n",
       "      <th>Per Capita Income</th>\n",
       "      <th>Poverty Count</th>\n",
       "      <th>Poverty Rate</th>\n",
       "    </tr>\n",
       "  </thead>\n",
       "  <tbody>\n",
       "    <tr>\n",
       "      <td>0</td>\n",
       "      <td>00601</td>\n",
       "      <td>17242.0</td>\n",
       "      <td>40.5</td>\n",
       "      <td>13092.0</td>\n",
       "      <td>6999.0</td>\n",
       "      <td>10772.0</td>\n",
       "      <td>62.475351</td>\n",
       "    </tr>\n",
       "    <tr>\n",
       "      <td>1</td>\n",
       "      <td>00602</td>\n",
       "      <td>38442.0</td>\n",
       "      <td>42.3</td>\n",
       "      <td>16358.0</td>\n",
       "      <td>9277.0</td>\n",
       "      <td>19611.0</td>\n",
       "      <td>51.014515</td>\n",
       "    </tr>\n",
       "    <tr>\n",
       "      <td>2</td>\n",
       "      <td>00603</td>\n",
       "      <td>48814.0</td>\n",
       "      <td>41.1</td>\n",
       "      <td>16603.0</td>\n",
       "      <td>11307.0</td>\n",
       "      <td>24337.0</td>\n",
       "      <td>49.856599</td>\n",
       "    </tr>\n",
       "    <tr>\n",
       "      <td>3</td>\n",
       "      <td>00606</td>\n",
       "      <td>6437.0</td>\n",
       "      <td>43.3</td>\n",
       "      <td>12832.0</td>\n",
       "      <td>5943.0</td>\n",
       "      <td>4163.0</td>\n",
       "      <td>64.672984</td>\n",
       "    </tr>\n",
       "    <tr>\n",
       "      <td>4</td>\n",
       "      <td>00610</td>\n",
       "      <td>27073.0</td>\n",
       "      <td>42.1</td>\n",
       "      <td>19309.0</td>\n",
       "      <td>10220.0</td>\n",
       "      <td>11724.0</td>\n",
       "      <td>43.305138</td>\n",
       "    </tr>\n",
       "  </tbody>\n",
       "</table>\n",
       "</div>"
      ],
      "text/plain": [
       "  Zipcode  Population  Median Age  Household Income  Per Capita Income  \\\n",
       "0   00601     17242.0        40.5           13092.0             6999.0   \n",
       "1   00602     38442.0        42.3           16358.0             9277.0   \n",
       "2   00603     48814.0        41.1           16603.0            11307.0   \n",
       "3   00606      6437.0        43.3           12832.0             5943.0   \n",
       "4   00610     27073.0        42.1           19309.0            10220.0   \n",
       "\n",
       "   Poverty Count  Poverty Rate  \n",
       "0        10772.0     62.475351  \n",
       "1        19611.0     51.014515  \n",
       "2        24337.0     49.856599  \n",
       "3         4163.0     64.672984  \n",
       "4        11724.0     43.305138  "
      ]
     },
     "execution_count": 8,
     "metadata": {},
     "output_type": "execute_result"
    }
   ],
   "source": [
    "# Final DataFrame\n",
    "census_pd = census_pd[[\"Zipcode\", \"Population\", \"Median Age\", \"Household Income\",\n",
    "                       \"Per Capita Income\", \"Poverty Count\", \"Poverty Rate\"]]\n",
    "\n",
    "census_pd.head()"
   ]
  },
  {
   "cell_type": "code",
   "execution_count": 9,
   "metadata": {},
   "outputs": [
    {
     "name": "stdout",
     "output_type": "stream",
     "text": [
      "33120\n"
     ]
    }
   ],
   "source": [
    "# Visualize\n",
    "print(len(census_pd))"
   ]
  },
  {
   "cell_type": "code",
   "execution_count": 10,
   "metadata": {},
   "outputs": [
    {
     "data": {
      "text/html": [
       "<div>\n",
       "<style scoped>\n",
       "    .dataframe tbody tr th:only-of-type {\n",
       "        vertical-align: middle;\n",
       "    }\n",
       "\n",
       "    .dataframe tbody tr th {\n",
       "        vertical-align: top;\n",
       "    }\n",
       "\n",
       "    .dataframe thead th {\n",
       "        text-align: right;\n",
       "    }\n",
       "</style>\n",
       "<table border=\"1\" class=\"dataframe\">\n",
       "  <thead>\n",
       "    <tr style=\"text-align: right;\">\n",
       "      <th></th>\n",
       "      <th>Zipcode</th>\n",
       "    </tr>\n",
       "  </thead>\n",
       "  <tbody>\n",
       "    <tr>\n",
       "      <td>0</td>\n",
       "      <td>90001</td>\n",
       "    </tr>\n",
       "    <tr>\n",
       "      <td>1</td>\n",
       "      <td>90002</td>\n",
       "    </tr>\n",
       "    <tr>\n",
       "      <td>2</td>\n",
       "      <td>90005</td>\n",
       "    </tr>\n",
       "    <tr>\n",
       "      <td>3</td>\n",
       "      <td>90006</td>\n",
       "    </tr>\n",
       "    <tr>\n",
       "      <td>4</td>\n",
       "      <td>90003</td>\n",
       "    </tr>\n",
       "  </tbody>\n",
       "</table>\n",
       "</div>"
      ],
      "text/plain": [
       "   Zipcode\n",
       "0    90001\n",
       "1    90002\n",
       "2    90005\n",
       "3    90006\n",
       "4    90003"
      ]
     },
     "execution_count": 10,
     "metadata": {},
     "output_type": "execute_result"
    }
   ],
   "source": [
    "zip_codes=[90001, 90002, 90005, 90006, 90003, 90004, 90007, 90008, 90010, 90013, 90014, 90017, 90021, 90009, 90011, 90012, 90015, 90016,\n",
    "90018, 90019, 90020, 90022, 90025, 90027, 90031, 90032, 90023, 90024, 90026, 90028, 90029, 90030, 90033, 90034, 90037, 90039, 90042, 90043, 90045, 90035, 90036, 90038, 90040, 90041, 90044, 90046, 90048, 90052, 90053, 90054, 90057, 90058, 90047, 90049, 90050, 90051, 90055, 90056, 90059, 90062, 90063, 90064, 90065, 90066, 90070, 90060, 90061, 90067, 90068, 90071, 90072, 90074, 90078, 90079, 90084, 90086, 90087, 90095, 90096, 90073, 90075, 90076, 90077, 90080, 90081, 90082, 90083, 90088,\n",
    "90089, 90091, 90093, 90099, 90189, 90101, 90103]\n",
    "\n",
    "zip_codes_df=pd.DataFrame({\"Zipcode\": zip_codes})\n",
    "zip_codes_df.head()"
   ]
  },
  {
   "cell_type": "code",
   "execution_count": 11,
   "metadata": {},
   "outputs": [
    {
     "data": {
      "text/plain": [
       "<bound method DataFrame.count of     Zipcode\n",
       "0     90001\n",
       "1     90002\n",
       "2     90005\n",
       "3     90006\n",
       "4     90003\n",
       "..      ...\n",
       "90    90093\n",
       "91    90099\n",
       "92    90189\n",
       "93    90101\n",
       "94    90103\n",
       "\n",
       "[95 rows x 1 columns]>"
      ]
     },
     "execution_count": 11,
     "metadata": {},
     "output_type": "execute_result"
    }
   ],
   "source": [
    "zip_codes_df.count"
   ]
  },
  {
   "cell_type": "code",
   "execution_count": 12,
   "metadata": {},
   "outputs": [
    {
     "data": {
      "text/plain": [
       "Zipcode               object\n",
       "Population           float64\n",
       "Median Age           float64\n",
       "Household Income     float64\n",
       "Per Capita Income    float64\n",
       "Poverty Count        float64\n",
       "Poverty Rate         float64\n",
       "dtype: object"
      ]
     },
     "execution_count": 12,
     "metadata": {},
     "output_type": "execute_result"
    }
   ],
   "source": [
    "census_pd.dtypes"
   ]
  },
  {
   "cell_type": "code",
   "execution_count": 22,
   "metadata": {},
   "outputs": [
    {
     "data": {
      "text/plain": [
       "0        00601\n",
       "1        00602\n",
       "2        00603\n",
       "3        00606\n",
       "4        00610\n",
       "         ...  \n",
       "33115    87515\n",
       "33116    87518\n",
       "33117    87511\n",
       "33118    87578\n",
       "33119    87532\n",
       "Name: Zipcode, Length: 33120, dtype: object"
      ]
     },
     "execution_count": 22,
     "metadata": {},
     "output_type": "execute_result"
    }
   ],
   "source": [
    "census_pd['Zipcode'].astype(str)"
   ]
  },
  {
   "cell_type": "code",
   "execution_count": 23,
   "metadata": {},
   "outputs": [
    {
     "data": {
      "text/plain": [
       "Zipcode    int32\n",
       "dtype: object"
      ]
     },
     "execution_count": 23,
     "metadata": {},
     "output_type": "execute_result"
    }
   ],
   "source": [
    "zip_codes_df.dtypes"
   ]
  },
  {
   "cell_type": "code",
   "execution_count": 24,
   "metadata": {},
   "outputs": [],
   "source": [
    "zip_codes_df['Zipcode']=zip_codes_df['Zipcode'].astype(str)"
   ]
  },
  {
   "cell_type": "code",
   "execution_count": 25,
   "metadata": {},
   "outputs": [
    {
     "data": {
      "text/plain": [
       "Zipcode    object\n",
       "dtype: object"
      ]
     },
     "execution_count": 25,
     "metadata": {},
     "output_type": "execute_result"
    }
   ],
   "source": [
    "zip_codes_df.dtypes"
   ]
  },
  {
   "cell_type": "code",
   "execution_count": 27,
   "metadata": {},
   "outputs": [
    {
     "data": {
      "text/html": [
       "<div>\n",
       "<style scoped>\n",
       "    .dataframe tbody tr th:only-of-type {\n",
       "        vertical-align: middle;\n",
       "    }\n",
       "\n",
       "    .dataframe tbody tr th {\n",
       "        vertical-align: top;\n",
       "    }\n",
       "\n",
       "    .dataframe thead th {\n",
       "        text-align: right;\n",
       "    }\n",
       "</style>\n",
       "<table border=\"1\" class=\"dataframe\">\n",
       "  <thead>\n",
       "    <tr style=\"text-align: right;\">\n",
       "      <th></th>\n",
       "      <th>Zipcode</th>\n",
       "      <th>Population</th>\n",
       "      <th>Median Age</th>\n",
       "      <th>Household Income</th>\n",
       "      <th>Per Capita Income</th>\n",
       "      <th>Poverty Count</th>\n",
       "      <th>Poverty Rate</th>\n",
       "    </tr>\n",
       "  </thead>\n",
       "  <tbody>\n",
       "    <tr>\n",
       "      <td>0</td>\n",
       "      <td>90001</td>\n",
       "      <td>58975.0</td>\n",
       "      <td>29.1</td>\n",
       "      <td>38521.0</td>\n",
       "      <td>12835.0</td>\n",
       "      <td>16911.0</td>\n",
       "      <td>28.674862</td>\n",
       "    </tr>\n",
       "    <tr>\n",
       "      <td>1</td>\n",
       "      <td>90002</td>\n",
       "      <td>53111.0</td>\n",
       "      <td>27.7</td>\n",
       "      <td>35410.0</td>\n",
       "      <td>12372.0</td>\n",
       "      <td>17365.0</td>\n",
       "      <td>32.695675</td>\n",
       "    </tr>\n",
       "    <tr>\n",
       "      <td>2</td>\n",
       "      <td>90005</td>\n",
       "      <td>39479.0</td>\n",
       "      <td>35.8</td>\n",
       "      <td>35149.0</td>\n",
       "      <td>22694.0</td>\n",
       "      <td>11036.0</td>\n",
       "      <td>27.954102</td>\n",
       "    </tr>\n",
       "    <tr>\n",
       "      <td>3</td>\n",
       "      <td>90006</td>\n",
       "      <td>61698.0</td>\n",
       "      <td>33.2</td>\n",
       "      <td>35411.0</td>\n",
       "      <td>16383.0</td>\n",
       "      <td>17326.0</td>\n",
       "      <td>28.081948</td>\n",
       "    </tr>\n",
       "    <tr>\n",
       "      <td>4</td>\n",
       "      <td>90003</td>\n",
       "      <td>72741.0</td>\n",
       "      <td>28.6</td>\n",
       "      <td>37226.0</td>\n",
       "      <td>12316.0</td>\n",
       "      <td>22186.0</td>\n",
       "      <td>30.499993</td>\n",
       "    </tr>\n",
       "  </tbody>\n",
       "</table>\n",
       "</div>"
      ],
      "text/plain": [
       "  Zipcode  Population  Median Age  Household Income  Per Capita Income  \\\n",
       "0   90001     58975.0        29.1           38521.0            12835.0   \n",
       "1   90002     53111.0        27.7           35410.0            12372.0   \n",
       "2   90005     39479.0        35.8           35149.0            22694.0   \n",
       "3   90006     61698.0        33.2           35411.0            16383.0   \n",
       "4   90003     72741.0        28.6           37226.0            12316.0   \n",
       "\n",
       "   Poverty Count  Poverty Rate  \n",
       "0        16911.0     28.674862  \n",
       "1        17365.0     32.695675  \n",
       "2        11036.0     27.954102  \n",
       "3        17326.0     28.081948  \n",
       "4        22186.0     30.499993  "
      ]
     },
     "execution_count": 27,
     "metadata": {},
     "output_type": "execute_result"
    }
   ],
   "source": [
    "la_df=pd.merge(zip_codes_df, census_pd, on='Zipcode', how='inner')\n",
    "la_df.head()"
   ]
  },
  {
   "cell_type": "code",
   "execution_count": 29,
   "metadata": {},
   "outputs": [
    {
     "data": {
      "text/plain": [
       "Zipcode              65\n",
       "Population           65\n",
       "Median Age           65\n",
       "Household Income     65\n",
       "Per Capita Income    65\n",
       "Poverty Count        65\n",
       "Poverty Rate         62\n",
       "dtype: int64"
      ]
     },
     "execution_count": 29,
     "metadata": {},
     "output_type": "execute_result"
    }
   ],
   "source": [
    "la_df.count()"
   ]
  },
  {
   "cell_type": "code",
   "execution_count": null,
   "metadata": {},
   "outputs": [],
   "source": []
  },
  {
   "cell_type": "code",
   "execution_count": null,
   "metadata": {},
   "outputs": [],
   "source": []
  }
 ],
 "metadata": {
  "kernelspec": {
   "display_name": "Python 3",
   "language": "python",
   "name": "python3"
  },
  "language_info": {
   "codemirror_mode": {
    "name": "ipython",
    "version": 3
   },
   "file_extension": ".py",
   "mimetype": "text/x-python",
   "name": "python",
   "nbconvert_exporter": "python",
   "pygments_lexer": "ipython3",
   "version": "3.7.4"
  }
 },
 "nbformat": 4,
 "nbformat_minor": 2
}
